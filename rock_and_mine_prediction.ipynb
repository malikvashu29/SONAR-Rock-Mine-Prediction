{
 "cells": [
  {
   "cell_type": "markdown",
   "id": "8a7d1b7d-882c-4f29-baa2-9975cf6fea96",
   "metadata": {},
   "source": [
    "## Importing Libraries"
   ]
  },
  {
   "cell_type": "code",
   "execution_count": 35,
   "id": "cd1259ac-ae39-4035-9bbf-4bd7405f9e69",
   "metadata": {},
   "outputs": [],
   "source": [
    "import numpy as np\n",
    "import pandas as pd\n",
    "from sklearn.model_selection import train_test_split\n",
    "from sklearn.linear_model import LogisticRegression\n",
    "from sklearn.metrics import accuracy_score"
   ]
  },
  {
   "cell_type": "markdown",
   "id": "31a83c8d-426f-48de-bb72-fb152fa47641",
   "metadata": {},
   "source": [
    "## Data files"
   ]
  },
  {
   "cell_type": "code",
   "execution_count": 8,
   "id": "b51210df-7b4f-4e02-ab84-19ba3e5bb749",
   "metadata": {},
   "outputs": [
    {
     "name": "stdout",
     "output_type": "stream",
     "text": [
      "(208, 61)\n"
     ]
    },
    {
     "data": {
      "text/html": [
       "<div>\n",
       "<style scoped>\n",
       "    .dataframe tbody tr th:only-of-type {\n",
       "        vertical-align: middle;\n",
       "    }\n",
       "\n",
       "    .dataframe tbody tr th {\n",
       "        vertical-align: top;\n",
       "    }\n",
       "\n",
       "    .dataframe thead th {\n",
       "        text-align: right;\n",
       "    }\n",
       "</style>\n",
       "<table border=\"1\" class=\"dataframe\">\n",
       "  <thead>\n",
       "    <tr style=\"text-align: right;\">\n",
       "      <th></th>\n",
       "      <th>0</th>\n",
       "      <th>1</th>\n",
       "      <th>2</th>\n",
       "      <th>3</th>\n",
       "      <th>4</th>\n",
       "      <th>5</th>\n",
       "      <th>6</th>\n",
       "      <th>7</th>\n",
       "      <th>8</th>\n",
       "      <th>9</th>\n",
       "      <th>...</th>\n",
       "      <th>51</th>\n",
       "      <th>52</th>\n",
       "      <th>53</th>\n",
       "      <th>54</th>\n",
       "      <th>55</th>\n",
       "      <th>56</th>\n",
       "      <th>57</th>\n",
       "      <th>58</th>\n",
       "      <th>59</th>\n",
       "      <th>60</th>\n",
       "    </tr>\n",
       "  </thead>\n",
       "  <tbody>\n",
       "    <tr>\n",
       "      <th>0</th>\n",
       "      <td>0.02</td>\n",
       "      <td>0.0371</td>\n",
       "      <td>0.0428</td>\n",
       "      <td>0.0207</td>\n",
       "      <td>0.0954</td>\n",
       "      <td>0.0986</td>\n",
       "      <td>0.1539</td>\n",
       "      <td>0.1601</td>\n",
       "      <td>0.3109</td>\n",
       "      <td>0.2111</td>\n",
       "      <td>...</td>\n",
       "      <td>0.0027</td>\n",
       "      <td>0.0065</td>\n",
       "      <td>0.0159</td>\n",
       "      <td>0.0072</td>\n",
       "      <td>0.0167</td>\n",
       "      <td>0.018</td>\n",
       "      <td>0.0084</td>\n",
       "      <td>0.009</td>\n",
       "      <td>0.0032</td>\n",
       "      <td>R</td>\n",
       "    </tr>\n",
       "  </tbody>\n",
       "</table>\n",
       "<p>1 rows × 61 columns</p>\n",
       "</div>"
      ],
      "text/plain": [
       "     0       1       2       3       4       5       6       7       8   \\\n",
       "0  0.02  0.0371  0.0428  0.0207  0.0954  0.0986  0.1539  0.1601  0.3109   \n",
       "\n",
       "       9   ...      51      52      53      54      55     56      57     58  \\\n",
       "0  0.2111  ...  0.0027  0.0065  0.0159  0.0072  0.0167  0.018  0.0084  0.009   \n",
       "\n",
       "       59  60  \n",
       "0  0.0032   R  \n",
       "\n",
       "[1 rows x 61 columns]"
      ]
     },
     "execution_count": 8,
     "metadata": {},
     "output_type": "execute_result"
    }
   ],
   "source": [
    "sonar_data = pd.read_csv('sonar_data.csv',header=None)\n",
    "print(sonar_data.shape)\n",
    "sonar_data.head(1)"
   ]
  },
  {
   "cell_type": "markdown",
   "id": "e5f433db-a453-4a6d-8030-88f49916506d",
   "metadata": {},
   "source": [
    "### making data understanable"
   ]
  },
  {
   "cell_type": "code",
   "execution_count": 9,
   "id": "480f29bb-db91-4971-b5e7-81173acc55ce",
   "metadata": {},
   "outputs": [],
   "source": [
    "# sonar_data.columns = ['obs ' + str(i) for i in sonar_data.columns]\n",
    "# sonar_data = sonar_data.reset_index().rename(columns={'index': 'rock_number'}).astype(str)\n",
    "# sonar_data['rock_number'] = 'Rock ' + sonar_data['rock_number']\n",
    "# sonar_data"
   ]
  },
  {
   "cell_type": "markdown",
   "id": "3bde0dd6-9299-4f2d-ba52-e3c41f2f5da9",
   "metadata": {},
   "source": [
    "## splitting data to training and test data"
   ]
  },
  {
   "cell_type": "code",
   "execution_count": 20,
   "id": "e5796be3-9543-4f24-9511-23a21b7e5f1e",
   "metadata": {},
   "outputs": [
    {
     "name": "stdout",
     "output_type": "stream",
     "text": [
      "Observation data\n",
      "all data:  (208, 60)\n",
      "training data: (187, 60)\n",
      "test data: (21, 60)\n",
      "\n",
      "Outcome Data\n",
      "all data:  (208,)\n",
      "training data: (187,)\n",
      "test data: (21,)\n"
     ]
    }
   ],
   "source": [
    "x = sonar_data.drop(columns=60,axis=1)\n",
    "y = sonar_data[60]\n",
    "\n",
    "x_train,x_test, y_train,  y_test = train_test_split(x, y, test_size=0.1, stratify=y, random_state=1)\n",
    "\n",
    "print('Observation data')\n",
    "print('all data: ', x.shape)\n",
    "print('training data:', x_train.shape)\n",
    "print('test data:', x_test.shape)\n",
    "\n",
    "print('\\nOutcome Data')\n",
    "print('all data: ', y.shape)\n",
    "print('training data:', y_train.shape)\n",
    "print('test data:', y_test.shape)"
   ]
  },
  {
   "cell_type": "markdown",
   "id": "4bb90e85-4a7f-4ace-8e83-53ed8ab9f178",
   "metadata": {},
   "source": [
    "## Training the model"
   ]
  },
  {
   "cell_type": "code",
   "execution_count": 22,
   "id": "253cd296-95a4-4378-b2c4-048e7c6ef367",
   "metadata": {},
   "outputs": [
    {
     "data": {
      "text/html": [
       "<style>#sk-container-id-1 {color: black;background-color: white;}#sk-container-id-1 pre{padding: 0;}#sk-container-id-1 div.sk-toggleable {background-color: white;}#sk-container-id-1 label.sk-toggleable__label {cursor: pointer;display: block;width: 100%;margin-bottom: 0;padding: 0.3em;box-sizing: border-box;text-align: center;}#sk-container-id-1 label.sk-toggleable__label-arrow:before {content: \"▸\";float: left;margin-right: 0.25em;color: #696969;}#sk-container-id-1 label.sk-toggleable__label-arrow:hover:before {color: black;}#sk-container-id-1 div.sk-estimator:hover label.sk-toggleable__label-arrow:before {color: black;}#sk-container-id-1 div.sk-toggleable__content {max-height: 0;max-width: 0;overflow: hidden;text-align: left;background-color: #f0f8ff;}#sk-container-id-1 div.sk-toggleable__content pre {margin: 0.2em;color: black;border-radius: 0.25em;background-color: #f0f8ff;}#sk-container-id-1 input.sk-toggleable__control:checked~div.sk-toggleable__content {max-height: 200px;max-width: 100%;overflow: auto;}#sk-container-id-1 input.sk-toggleable__control:checked~label.sk-toggleable__label-arrow:before {content: \"▾\";}#sk-container-id-1 div.sk-estimator input.sk-toggleable__control:checked~label.sk-toggleable__label {background-color: #d4ebff;}#sk-container-id-1 div.sk-label input.sk-toggleable__control:checked~label.sk-toggleable__label {background-color: #d4ebff;}#sk-container-id-1 input.sk-hidden--visually {border: 0;clip: rect(1px 1px 1px 1px);clip: rect(1px, 1px, 1px, 1px);height: 1px;margin: -1px;overflow: hidden;padding: 0;position: absolute;width: 1px;}#sk-container-id-1 div.sk-estimator {font-family: monospace;background-color: #f0f8ff;border: 1px dotted black;border-radius: 0.25em;box-sizing: border-box;margin-bottom: 0.5em;}#sk-container-id-1 div.sk-estimator:hover {background-color: #d4ebff;}#sk-container-id-1 div.sk-parallel-item::after {content: \"\";width: 100%;border-bottom: 1px solid gray;flex-grow: 1;}#sk-container-id-1 div.sk-label:hover label.sk-toggleable__label {background-color: #d4ebff;}#sk-container-id-1 div.sk-serial::before {content: \"\";position: absolute;border-left: 1px solid gray;box-sizing: border-box;top: 0;bottom: 0;left: 50%;z-index: 0;}#sk-container-id-1 div.sk-serial {display: flex;flex-direction: column;align-items: center;background-color: white;padding-right: 0.2em;padding-left: 0.2em;position: relative;}#sk-container-id-1 div.sk-item {position: relative;z-index: 1;}#sk-container-id-1 div.sk-parallel {display: flex;align-items: stretch;justify-content: center;background-color: white;position: relative;}#sk-container-id-1 div.sk-item::before, #sk-container-id-1 div.sk-parallel-item::before {content: \"\";position: absolute;border-left: 1px solid gray;box-sizing: border-box;top: 0;bottom: 0;left: 50%;z-index: -1;}#sk-container-id-1 div.sk-parallel-item {display: flex;flex-direction: column;z-index: 1;position: relative;background-color: white;}#sk-container-id-1 div.sk-parallel-item:first-child::after {align-self: flex-end;width: 50%;}#sk-container-id-1 div.sk-parallel-item:last-child::after {align-self: flex-start;width: 50%;}#sk-container-id-1 div.sk-parallel-item:only-child::after {width: 0;}#sk-container-id-1 div.sk-dashed-wrapped {border: 1px dashed gray;margin: 0 0.4em 0.5em 0.4em;box-sizing: border-box;padding-bottom: 0.4em;background-color: white;}#sk-container-id-1 div.sk-label label {font-family: monospace;font-weight: bold;display: inline-block;line-height: 1.2em;}#sk-container-id-1 div.sk-label-container {text-align: center;}#sk-container-id-1 div.sk-container {/* jupyter's `normalize.less` sets `[hidden] { display: none; }` but bootstrap.min.css set `[hidden] { display: none !important; }` so we also need the `!important` here to be able to override the default hidden behavior on the sphinx rendered scikit-learn.org. See: https://github.com/scikit-learn/scikit-learn/issues/21755 */display: inline-block !important;position: relative;}#sk-container-id-1 div.sk-text-repr-fallback {display: none;}</style><div id=\"sk-container-id-1\" class=\"sk-top-container\"><div class=\"sk-text-repr-fallback\"><pre>LogisticRegression()</pre><b>In a Jupyter environment, please rerun this cell to show the HTML representation or trust the notebook. <br />On GitHub, the HTML representation is unable to render, please try loading this page with nbviewer.org.</b></div><div class=\"sk-container\" hidden><div class=\"sk-item\"><div class=\"sk-estimator sk-toggleable\"><input class=\"sk-toggleable__control sk-hidden--visually\" id=\"sk-estimator-id-1\" type=\"checkbox\" checked><label for=\"sk-estimator-id-1\" class=\"sk-toggleable__label sk-toggleable__label-arrow\">LogisticRegression</label><div class=\"sk-toggleable__content\"><pre>LogisticRegression()</pre></div></div></div></div></div>"
      ],
      "text/plain": [
       "LogisticRegression()"
      ]
     },
     "execution_count": 22,
     "metadata": {},
     "output_type": "execute_result"
    }
   ],
   "source": [
    "model = LogisticRegression()\n",
    "model.fit(x_train,y_train)"
   ]
  },
  {
   "cell_type": "markdown",
   "id": "5ee0ef0a-a9cf-401c-b3c8-b93b8011d673",
   "metadata": {},
   "source": [
    "## Model Evaluation"
   ]
  },
  {
   "cell_type": "code",
   "execution_count": 29,
   "id": "b4010fb5-bbdb-4d28-8b6b-f3c8a52cccb7",
   "metadata": {},
   "outputs": [
    {
     "name": "stdout",
     "output_type": "stream",
     "text": [
      "Training data accuracy: 83.42 %\n"
     ]
    }
   ],
   "source": [
    "## accuracy on training data\n",
    "prediction = model.predict(x_train)\n",
    "acc = accuracy_score(prediction,y_train)\n",
    "print('Training data accuracy:', acc.round(4)*100,'%')"
   ]
  },
  {
   "cell_type": "code",
   "execution_count": 30,
   "id": "57107104-7495-48b7-bc3d-92c6ec62112f",
   "metadata": {},
   "outputs": [
    {
     "name": "stdout",
     "output_type": "stream",
     "text": [
      "Test data accuracy: 76.19 %\n"
     ]
    }
   ],
   "source": [
    "## accuracy on test data\n",
    "prediction = model.predict(x_test)\n",
    "acc = accuracy_score(prediction,y_test)\n",
    "print('Test data accuracy:', acc.round(4)*100,'%')"
   ]
  },
  {
   "cell_type": "markdown",
   "id": "e66e40e4-2307-4f6f-911a-94a6cb4eaee2",
   "metadata": {},
   "source": [
    "## Making a predictive System"
   ]
  },
  {
   "cell_type": "code",
   "execution_count": 43,
   "id": "fce7a102-b448-43bf-abd6-886577eabe57",
   "metadata": {},
   "outputs": [
    {
     "data": {
      "text/plain": [
       "array([0.0238, 0.0318, 0.0422, 0.0399, 0.0788, 0.0766, 0.0881, 0.1143,\n",
       "       0.1594, 0.2048, 0.2652, 0.31  , 0.2381, 0.1918, 0.143 , 0.1735,\n",
       "       0.1781, 0.2852, 0.5036, 0.6166, 0.7616, 0.8125, 0.7793, 0.8788,\n",
       "       0.8813, 0.947 , 1.    , 0.9739, 0.8446, 0.6151, 0.4302, 0.3165,\n",
       "       0.2869, 0.2017, 0.1206, 0.0271, 0.058 , 0.1262, 0.1072, 0.1082,\n",
       "       0.036 , 0.1197, 0.2061, 0.2054, 0.1878, 0.2047, 0.1716, 0.1069,\n",
       "       0.0477, 0.017 , 0.0186, 0.0096, 0.0071, 0.0084, 0.0038, 0.0026,\n",
       "       0.0028, 0.0013, 0.0035, 0.006 ])"
      ]
     },
     "execution_count": 43,
     "metadata": {},
     "output_type": "execute_result"
    }
   ],
   "source": [
    "input_data = (0.0238,0.0318,0.0422,0.0399,0.0788,0.0766,0.0881,0.1143,0.1594,0.2048,0.2652,0.3100,0.2381,0.1918,0.1430,0.1735,0.1781,0.2852,0.5036,0.6166,0.7616,0.8125,0.7793,0.8788,0.8813,0.9470,1.0000,0.9739,0.8446,0.6151,0.4302,0.3165,0.2869,0.2017,0.1206,0.0271,0.0580,0.1262,0.1072,0.1082,0.0360,0.1197,0.2061,0.2054,0.1878,0.2047,0.1716,0.1069,0.0477,0.0170,0.0186,0.0096,0.0071,0.0084,0.0038,0.0026,0.0028,0.0013,0.0035,0.0060)\n",
    "input_data_array = np.asarray(input_data)\n",
    "input_data_array"
   ]
  },
  {
   "cell_type": "code",
   "execution_count": 44,
   "id": "37c19925-30b0-4e48-9a80-cd2c09f28590",
   "metadata": {},
   "outputs": [],
   "source": [
    "input_data_reshaped = input_data_array.reshape(1,-1)"
   ]
  },
  {
   "cell_type": "code",
   "execution_count": 45,
   "id": "3babc3e0-deb5-4f6d-8351-e52d201cce35",
   "metadata": {},
   "outputs": [
    {
     "data": {
      "text/plain": [
       "array(['M'], dtype=object)"
      ]
     },
     "execution_count": 45,
     "metadata": {},
     "output_type": "execute_result"
    }
   ],
   "source": [
    "prediction  = model.predict(input_data_reshaped)\n",
    "prediction"
   ]
  },
  {
   "cell_type": "code",
   "execution_count": null,
   "id": "9b3b87fb-a6e1-47e8-a8a6-4ad70060278f",
   "metadata": {},
   "outputs": [],
   "source": []
  }
 ],
 "metadata": {
  "kernelspec": {
   "display_name": "Python 3 (ipykernel)",
   "language": "python",
   "name": "python3"
  },
  "language_info": {
   "codemirror_mode": {
    "name": "ipython",
    "version": 3
   },
   "file_extension": ".py",
   "mimetype": "text/x-python",
   "name": "python",
   "nbconvert_exporter": "python",
   "pygments_lexer": "ipython3",
   "version": "3.11.7"
  }
 },
 "nbformat": 4,
 "nbformat_minor": 5
}
